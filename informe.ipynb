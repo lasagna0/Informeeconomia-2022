{
 "cells": [
  {
   "cell_type": "raw",
   "metadata": {},
   "source": [
    "---\n",
    "title: \"Analisis de Economia del Atlantico - 2022\"\n",
    "author: \"David A Sanchez Polo & Maria Henriquez\"\n",
    "date: \"2023-03-01\"\n",
    "lang: \"es\"\n",
    "toc: true\n",
    "format:\n",
    "  html:\n",
    "    html-math-method: katex\n",
    "    code-tools: false\n",
    "    embed-resources: true\n",
    "    self-contained: true\n",
    "execute:\n",
    "  warning: false\n",
    "  echo: false\n",
    "---"
   ]
  },
  {
   "cell_type": "code",
   "execution_count": 76,
   "metadata": {},
   "outputs": [],
   "source": [
    "import dask.dataframe as dd\n",
    "import pandas as pd\n",
    "\n",
    "proyeccion=dd.read_csv('Proyeccion.csv', dtype={'DEPARTAMENTOS': 'object'})\n"
   ]
  },
  {
   "cell_type": "code",
   "execution_count": null,
   "metadata": {},
   "outputs": [],
   "source": [
    "exportacion=dd.read_csv('2022_exportacion.csv', dtype={'COD_MODALIDAD_PRECEDENTE': 'object','NIT_EXPORTADOR': 'object'}).compute()\n",
    "\n"
   ]
  },
  {
   "cell_type": "code",
   "execution_count": null,
   "metadata": {},
   "outputs": [],
   "source": [
    "importacion=dd.read_csv('2022_importacion.csv', dtype={'CODIGO_MODALIDAD_DECLARAC': 'object',       'PROGRAMA_NUMERO': 'object',     'TIPO_IDENTIFICAC_DECLARAN': 'object',   'TIPO_IDENTIFICAC_EXPORTAD': 'object', 'TIPO_IDENTIFICAC_IMPORTAD': 'object','COD_CLASE_IMPORTADOR': 'object', 'DIGITO_VERIFI_NIT_DECLARA': 'object','DIGITO_VERIFI_NIT_IMPORTA': 'object','NUMERO_IDENTIFICAC_EXPORT': 'object', 'CIUDAD_PAIS_IMPORTADOR': 'object'}).compute()"
   ]
  },
  {
   "cell_type": "code",
   "execution_count": null,
   "metadata": {},
   "outputs": [],
   "source": [
    "import pandas as pd\n",
    "# convert column mes to datetime, all years are 2022\n",
    "exportacion['Mes'] = exportacion['Mes'].apply(lambda x: \"1-\" + str(x) + \"-2022\")\n",
    "importacion['Mes'] = importacion['Mes'].apply(lambda x: \"1-\" + str(x) + \"-2022\")\n"
   ]
  },
  {
   "cell_type": "code",
   "execution_count": null,
   "metadata": {},
   "outputs": [],
   "source": [
    "exportacion['Mes'] = pd.to_datetime(exportacion['Mes'], format='%d-%m-%Y')\n",
    "importacion['Mes'] = pd.to_datetime(importacion['Mes'], format='%d-%m-%Y')\n"
   ]
  },
  {
   "cell_type": "code",
   "execution_count": null,
   "metadata": {},
   "outputs": [],
   "source": [
    "correlativa=pd.read_excel(\"TOTPART-v74-Dic22.xlsx\", skiprows=2)\n"
   ]
  },
  {
   "cell_type": "code",
   "execution_count": null,
   "metadata": {},
   "outputs": [],
   "source": [
    "correlativa.drop_duplicates(subset =\"Subpartida Arancelaria\", keep = 'first', inplace = True)"
   ]
  },
  {
   "cell_type": "code",
   "execution_count": null,
   "metadata": {},
   "outputs": [],
   "source": [
    "pd.set_option('display.max_columns', None)\n",
    "## merge column if string contains another string in correlativa\n",
    "exportacion['SUBPARTIDA'] = exportacion['SUBPARTIDA'].apply(lambda x: x if x not in correlativa['Subpartida Arancelaria'].values else correlativa[correlativa['Subpartida Arancelaria'] == x]['Subpartida Arancelaria'].values[0])\n"
   ]
  },
  {
   "cell_type": "code",
   "execution_count": null,
   "metadata": {},
   "outputs": [],
   "source": [
    "#merge\n",
    "exportacion2=exportacion.merge(correlativa, left_on='SUBPARTIDA', right_on='Subpartida Arancelaria', how='left')\n"
   ]
  },
  {
   "cell_type": "code",
   "execution_count": null,
   "metadata": {},
   "outputs": [],
   "source": [
    "exportacion2.head()"
   ]
  },
  {
   "cell_type": "code",
   "execution_count": null,
   "metadata": {},
   "outputs": [],
   "source": [
    "del exportacion2['Subpartida Arancelaria']\n",
    "del exportacion2['Año_y']\n"
   ]
  },
  {
   "cell_type": "code",
   "execution_count": null,
   "metadata": {},
   "outputs": [],
   "source": [
    "exportacion2=exportacion2.rename(columns={'Año_x': 'Año'}, inplace=True)"
   ]
  },
  {
   "cell_type": "code",
   "execution_count": null,
   "metadata": {},
   "outputs": [],
   "source": [
    "exportacion"
   ]
  },
  {
   "cell_type": "code",
   "execution_count": null,
   "metadata": {},
   "outputs": [],
   "source": [
    "exportacion3=exportacion2.groupby(['Mes','REGION_DE_ORIGEN','SUBPARTIDA', 'CIIU Rev. 4 A.C (2021)', 'Descripción Arancelaria']).agg({'PESO_NETO_KGS': 'sum', 'VALOR_FOB_USD': 'sum'})"
   ]
  },
  {
   "cell_type": "code",
   "execution_count": null,
   "metadata": {},
   "outputs": [],
   "source": [
    "exportacionATLANTICO=exportacion3.loc[exportacion3.index.get_level_values('REGION_DE_ORIGEN') == 'ATLANTICO']"
   ]
  },
  {
   "cell_type": "code",
   "execution_count": null,
   "metadata": {},
   "outputs": [],
   "source": [
    "ciiu=pd.read_excel(\"/Users/lasagna/Library/CloudStorage/OneDrive-UniversidaddelNorte/Probarranquilla Projects/PIB proyectado/articles-380405_recurso_1.xls\", skiprows=2)"
   ]
  },
  {
   "cell_type": "code",
   "execution_count": null,
   "metadata": {},
   "outputs": [],
   "source": [
    "exportacionATLANTICO=exportacionATLANTICO.reset_index()\n"
   ]
  },
  {
   "cell_type": "code",
   "execution_count": null,
   "metadata": {},
   "outputs": [],
   "source": [
    "exportacionATLANTICO[\"CIIU Rev. 4 A.C (2021)\"]=exportacionATLANTICO[\"CIIU Rev. 4 A.C (2021)\"].astype(str)\n",
    "ciiu['Clase']=ciiu['Clase'].astype(str)\n",
    "exportacionATLANTICO[\"CIIU Rev. 4 A.C (2021)\"]=exportacionATLANTICO[\"CIIU Rev. 4 A.C (2021)\"].apply(lambda x: x if x not in ciiu['Clase'].values else ciiu[ciiu['Clase'] == x]['Clase'].values[0])"
   ]
  },
  {
   "cell_type": "code",
   "execution_count": null,
   "metadata": {},
   "outputs": [],
   "source": [
    "exportacionATLANTICO=exportacionATLANTICO.merge(ciiu, left_on='CIIU Rev. 4 A.C (2021)', right_on='Clase', how='left')\n"
   ]
  },
  {
   "cell_type": "code",
   "execution_count": null,
   "metadata": {},
   "outputs": [],
   "source": [
    "exportacionATLANTICO.to_csv('exportacionATLANTICOporMes.csv')"
   ]
  },
  {
   "cell_type": "code",
   "execution_count": null,
   "metadata": {},
   "outputs": [],
   "source": [
    "import pandas as pd\n",
    "exportacionATLANTICO=pd.read_csv('exportacionATLANTICOporMes.csv')\n",
    "exportacionATLANTICO\n"
   ]
  },
  {
   "attachments": {},
   "cell_type": "markdown",
   "metadata": {},
   "source": [
    "El presente informe tiene como objetivo ofrecer un panorama general de la economía del departamento del Atlántico, su desempeño sectorial frente a la economía globalizada y su contribución a las cuentas nacionales en algunos sectores clave.\n",
    "\n",
    "## 1. Comercio exterior\n",
    "\n",
    "A lo largo de los meses del 2022, las exportaciones del Atlántico han mantenido un nivel de dinamismo constante. Al analizar la distribución específica de los productos según la Clasificación Industrial Internacional Uniforme (CIIU), se puede observar que el producto más exportado en el departamento ha sido consistentemente aquel relacionado con la fabricación de productos metálicos para estructuras.\n",
    "\n"
   ]
  },
  {
   "cell_type": "code",
   "execution_count": null,
   "metadata": {},
   "outputs": [],
   "source": []
  },
  {
   "cell_type": "code",
   "execution_count": null,
   "metadata": {},
   "outputs": [
    {
     "data": {
      "text/html": [
       "<iframe\n",
       "    scrolling=\"no\"\n",
       "    width=\"100%\"\n",
       "    height=\"545px\"\n",
       "    src=\"iframe_figures/figure_37.html\"\n",
       "    frameborder=\"0\"\n",
       "    allowfullscreen\n",
       "></iframe>\n"
      ]
     },
     "metadata": {},
     "output_type": "display_data"
    }
   ],
   "source": [
    "import plotly.express as px\n",
    "import plotly.graph_objects as go\n",
    "import plotly.io as pio\n",
    "pio.renderers.default = 'iframe_connected'\n",
    "#show in jupyterq\n",
    "exportacionATLANTICOfixtext=exportacionATLANTICO.copy()\n",
    "exportacionATLANTICOfixtext['Descripción'] = exportacionATLANTICOfixtext['Descripción'].apply(lambda x: x if len(str(x)) < 30 else str(x)[:50] + '...')\n",
    "\n",
    "# recortar texto\n",
    "\n",
    "fig = px.bar(exportacionATLANTICOfixtext, x=\"Mes\", y=\"VALOR_FOB_USD\", color='Descripción')\n",
    "#add title\n",
    "\n",
    "\n",
    "fig.update_layout(title_text='Exportaciones Atlántico por mes')\n",
    "\n",
    "\n",
    "fig.show()\n",
    "\n"
   ]
  },
  {
   "attachments": {},
   "cell_type": "markdown",
   "metadata": {},
   "source": [
    "Sin embargo, al agrupar estos productos por sector, se puede observar que durante el año 2022, el sector que tuvo un desempeño sobresaliente fue el de fabricación de productos elaborados de metal, excepto maquinaria y equipo, seguido por el sector de fabricación de sustancias y productos químicos, que habitualmente es aquel con mayor peso en las exportaciones del departamento, pero que en esta ocasión se ubicó en segundo lugar."
   ]
  },
  {
   "cell_type": "code",
   "execution_count": null,
   "metadata": {},
   "outputs": [
    {
     "data": {
      "text/html": [
       "<iframe\n",
       "    scrolling=\"no\"\n",
       "    width=\"100%\"\n",
       "    height=\"545px\"\n",
       "    src=\"iframe_figures/figure_39.html\"\n",
       "    frameborder=\"0\"\n",
       "    allowfullscreen\n",
       "></iframe>\n"
      ]
     },
     "metadata": {},
     "output_type": "display_data"
    }
   ],
   "source": [
    "#show all rows\n",
    "pd.set_option('display.max_rows', None)\n",
    "#left the first 2 characters\n",
    "exportacionATLANTICOsec=exportacionATLANTICO.copy()\n",
    "exportacionATLANTICOsec[\"CIIU Rev. 4 A.C (2021)\"]=exportacionATLANTICOsec[\"CIIU Rev. 4 A.C (2021)\"].astype(str).str[:2]\n",
    "\n",
    "exportacionATLANTICOsec=exportacionATLANTICOsec.groupby(['CIIU Rev. 4 A.C (2021)']).agg({'VALOR_FOB_USD': 'sum'}).sort_values(by='VALOR_FOB_USD', ascending=False)\n",
    "\n",
    "exportacionATLANTICOsec=exportacionATLANTICOsec.reset_index()\n",
    "\n",
    "ciiu=pd.read_excel(\"/Users/lasagna/Library/CloudStorage/OneDrive-UniversidaddelNorte/Probarranquilla Projects/PIB proyectado/articles-380405_recurso_1.xls\", skiprows=2)\n",
    "\n",
    "exportacionATLANTICOsec[\"CIIU Rev. 4 A.C (2021)\"]=exportacionATLANTICOsec[\"CIIU Rev. 4 A.C (2021)\"].astype(float)\n",
    "ciiu['Clase']=ciiu['Clase'].astype(float)\n",
    "exportacionATLANTICOsec=exportacionATLANTICOsec.merge(ciiu, left_on='CIIU Rev. 4 A.C (2021)', right_on='División', how='left')\n",
    "\n",
    "#IF LESS THAN 1% OF TOTAL, GROUP IN OTHER\n",
    "exportacionATLANTICOsec['Descripción'] = exportacionATLANTICOsec['Descripción'].apply(lambda x: 'Otros' if x not in exportacionATLANTICOsec[exportacionATLANTICOsec['VALOR_FOB_USD'] > exportacionATLANTICOsec['VALOR_FOB_USD'].sum()*0.01]['Descripción'].values else x)\n",
    "# recortar texto\n",
    "exportacionATLANTICOsec['Descripción'] = exportacionATLANTICOsec['Descripción'].apply(lambda x: x if len(str(x)) < 30 else str(x)[:30] + '...')\n",
    "FIG=px.pie(exportacionATLANTICOsec, values='VALOR_FOB_USD', names='Descripción', title='Exportaciones Atlántico por CIIU')\n",
    "FIG.show()\n",
    "\n",
    "\n",
    "\n",
    "\n"
   ]
  },
  {
   "attachments": {},
   "cell_type": "markdown",
   "metadata": {},
   "source": [
    "Si enfocamos nuestro análisis en la clasificación CIIU de químicos para el año 2022 a nivel nacional, podemos observar que el departamento de Bolívar es el que más exporta este tipo de productos, seguido por Antioquia y Atlántico. Este último departamento se destaca como uno de los más fuertes en este sector en todo el territorio nacional, representando el 12,1% de las exportaciones totales de productos químicos en 2022.\n"
   ]
  },
  {
   "cell_type": "code",
   "execution_count": null,
   "metadata": {},
   "outputs": [],
   "source": [
    "# convert from horizontal to vertical to use in excel chart\n",
    "exportacionATLANTICO[\"VALOR_FOB_USD\"]=exportacionATLANTICO[\"VALOR_FOB_USD\"].astype(int)\n",
    "\n",
    "exportacionATLANTICO2=exportacionATLANTICO.pivot_table(index=['Mes'], columns=['Descripción Arancelaria'], values=['VALOR_FOB_USD'], aggfunc='sum')\n",
    "\n",
    "# covert the cols only the description and mes\n",
    "exportacionATLANTICO2.columns = exportacionATLANTICO2.columns.droplevel(0)\n"
   ]
  },
  {
   "cell_type": "code",
   "execution_count": null,
   "metadata": {},
   "outputs": [
    {
     "name": "stderr",
     "output_type": "stream",
     "text": [
      "/var/folders/pl/v8kzknmx44v8w9mzp7wds7z40000gn/T/ipykernel_7698/1020491204.py:30: FutureWarning:\n",
      "\n",
      "save is not part of the public API, usage can give unexpected results and will be removed in a future version\n",
      "\n"
     ]
    }
   ],
   "source": [
    "\n",
    "# # Create a Pandas Excel writer using XlsxWriter as the engine.\n",
    "# excel_file = 'stacked_column.xlsx'\n",
    "# sheet_name = 'Sheet1'\n",
    "# df=exportacionATLANTICO2\n",
    "# writer = pd.ExcelWriter(excel_file, engine='xlsxwriter')\n",
    "# df.to_excel(writer, sheet_name=sheet_name)\n",
    "\n",
    "# workbook = writer.book\n",
    "# worksheet = writer.sheets[sheet_name]\n",
    "\n",
    "# chart = workbook.add_chart({'type': 'column', 'subtype': 'stacked'})\n",
    "\n",
    "# # Configure the series of the chart from the dataframe data.\n",
    "# for col_num, value in enumerate(df.columns.values):\n",
    "#     chart.add_series({\n",
    "#         'name':       [sheet_name, 0, col_num],\n",
    "#         'categories': [sheet_name, 1, 0, len(df), 0],\n",
    "#         'values':     [sheet_name, 1, col_num, len(df), col_num],\n",
    "#     })\n",
    "    \n",
    "\n",
    "# # Configure the chart axes.\n",
    "# chart.set_x_axis({'name': 'Mes'})\n",
    "# chart.set_y_axis({'name': 'Valor FOB USD'})\n",
    "\n",
    "# # Insert the chart into the worksheet.\n",
    "# worksheet.insert_chart('D2', chart)\n",
    "\n",
    "# # Close the Pandas Excel writer and output the Excel file.\n",
    "# writer.save()\n",
    "\n"
   ]
  },
  {
   "cell_type": "code",
   "execution_count": null,
   "metadata": {},
   "outputs": [
    {
     "data": {
      "text/html": [
       "<iframe\n",
       "    scrolling=\"no\"\n",
       "    width=\"100%\"\n",
       "    height=\"545px\"\n",
       "    src=\"iframe_figures/figure_40.html\"\n",
       "    frameborder=\"0\"\n",
       "    allowfullscreen\n",
       "></iframe>\n"
      ]
     },
     "metadata": {},
     "output_type": "display_data"
    }
   ],
   "source": [
    "# compare with other regions\n",
    "\n",
    "exportacionall=exportacion2\n",
    "\n",
    "exportacionall.head()\n",
    "\n",
    "ciiu=pd.read_excel(\"/Users/lasagna/Library/CloudStorage/OneDrive-UniversidaddelNorte/Probarranquilla Projects/PIB proyectado/articles-380405_recurso_1.xls\", skiprows=2)\n",
    "exportacionall=exportacionall.merge(ciiu, left_on='CIIU Rev. 4 A.C (2021)', right_on='Clase', how='left')\n",
    "\n",
    "exportacionall=exportacionall.groupby(['CIIU Rev. 4 A.C (2021)', 'REGION_DE_ORIGEN']).agg({'VALOR_FOB_USD': 'sum'}).sort_values(by='VALOR_FOB_USD', ascending=False)\n",
    "# just the first 2 characters\n",
    "exportacionall=exportacionall.reset_index()\n",
    "\n",
    "exportacionall[\"CIIU Rev. 4 A.C (2021)\"]=exportacionall[\"CIIU Rev. 4 A.C (2021)\"].astype(str).str[:2]\n",
    "exportacionall=exportacionall.reset_index()\n",
    "exportacionall[\"CIIU Rev. 4 A.C (2021)\"]=exportacionall[\"CIIU Rev. 4 A.C (2021)\"].astype(float)\n",
    "ciiu['Clase']=ciiu['Clase'].astype(float)\n",
    "exportacionall=exportacionall.merge(ciiu, left_on='CIIU Rev. 4 A.C (2021)', right_on='División', how='left')\n",
    "\n",
    "\n",
    "# just show Fabricación de sustancias y productos químicos\n",
    "\n",
    "exportacionallquim=exportacionall[exportacionall['Descripción']=='Fabricación de sustancias y productos químicos']\n",
    "\n",
    "exportacionallquim=exportacionallquim.groupby(['REGION_DE_ORIGEN']).agg({'VALOR_FOB_USD': 'sum'}).sort_values(by='VALOR_FOB_USD', ascending=False)\n",
    "exportacionallquim=exportacionallquim.reset_index()\n",
    "exportacionallquim.sort_values(by='VALOR_FOB_USD', ascending=False)\n",
    "#otros\n",
    "exportacionallquim['REGION_DE_ORIGEN'] = exportacionallquim['REGION_DE_ORIGEN'].apply(lambda x: 'Otros' if x not in exportacionallquim[exportacionallquim['VALOR_FOB_USD'] > exportacionallquim['VALOR_FOB_USD'].sum()*0.01]['REGION_DE_ORIGEN'].values else x)\n",
    "\n",
    "fig=px.pie(exportacionallquim, values='VALOR_FOB_USD', names='REGION_DE_ORIGEN', title='Exportaciones por CIIU para quimicos')\n",
    "fig.show()"
   ]
  },
  {
   "cell_type": "code",
   "execution_count": null,
   "metadata": {},
   "outputs": [],
   "source": []
  },
  {
   "attachments": {},
   "cell_type": "markdown",
   "metadata": {},
   "source": [
    "Si nos enfocamos en el sector de metales, podemos observar que el departamento del Atlántico es el ganador absoluto en términos de participación de mercado, representando el 61,2% de las exportaciones totales de productos metálicos en 2022. Los departamentos de Antioquia y Bogotá D.C. les siguen en importancia, con un 12,7% y un 10,2% de participación en el mercado, respectivamente."
   ]
  },
  {
   "cell_type": "code",
   "execution_count": null,
   "metadata": {},
   "outputs": [],
   "source": [
    "exportacionallquim"
   ]
  },
  {
   "cell_type": "code",
   "execution_count": null,
   "metadata": {},
   "outputs": [],
   "source": []
  },
  {
   "cell_type": "code",
   "execution_count": null,
   "metadata": {},
   "outputs": [],
   "source": []
  },
  {
   "cell_type": "code",
   "execution_count": null,
   "metadata": {},
   "outputs": [
    {
     "name": "stderr",
     "output_type": "stream",
     "text": [
      "/var/folders/pl/v8kzknmx44v8w9mzp7wds7z40000gn/T/ipykernel_9235/813905487.py:34: FutureWarning:\n",
      "\n",
      "save is not part of the public API, usage can give unexpected results and will be removed in a future version\n",
      "\n"
     ]
    }
   ],
   "source": [
    "# #recreate the graph in excel\n",
    "\n",
    "# # columns are REGION_DE_ORIGEN\tVALOR_FOB_USD\n",
    "\n",
    "# exportacionallquim2=exportacionallquim\n",
    "\n",
    "\n",
    "# # Create a Pandas Excel writer using XlsxWriter as the engine.\n",
    "# excel_file = 'pie_chart.xlsx'\n",
    "# sheet_name = 'Sheet1'\n",
    "\n",
    "# df=exportacionallquim2\n",
    "\n",
    "# writer = pd.ExcelWriter(excel_file, engine='xlsxwriter')\n",
    "# df.to_excel(writer, sheet_name=sheet_name)\n",
    "\n",
    "# workbook = writer.book\n",
    "# worksheet = writer.sheets[sheet_name]\n",
    "\n",
    "# chart = workbook.add_chart({'type': 'pie'})\n",
    "\n",
    "# # Configure the series of the chart from the dataframe data.\n",
    "# for col_num, value in enumerate(df.columns.values):\n",
    "#     chart.add_series({\n",
    "#         'name':       [sheet_name, 0, col_num],\n",
    "#         'categories': [sheet_name, 1, 0, len(df), 0],\n",
    "#         'values':     [sheet_name, 1, col_num, len(df), col_num],\n",
    "#     })\n",
    "\n",
    "# # Insert the chart into the worksheet.\n",
    "# worksheet.insert_chart('D2', chart)\n",
    "\n",
    "# # Close the Pandas Excel writer and output the Excel file.\n",
    "# writer.save()\n"
   ]
  },
  {
   "cell_type": "code",
   "execution_count": null,
   "metadata": {},
   "outputs": [
    {
     "data": {
      "text/html": [
       "<iframe\n",
       "    scrolling=\"no\"\n",
       "    width=\"100%\"\n",
       "    height=\"545px\"\n",
       "    src=\"iframe_figures/figure_67.html\"\n",
       "    frameborder=\"0\"\n",
       "    allowfullscreen\n",
       "></iframe>\n"
      ]
     },
     "metadata": {},
     "output_type": "display_data"
    }
   ],
   "source": [
    "##get those contains Fabricación de productos elaborados de metal\n",
    "\n",
    "exportacionallmetal=exportacionall[exportacionall['Descripción']=='Fabricación de productos elaborados de metal, excepto maquinaria y equipo']\n",
    "\n",
    "exportacionallmetal=exportacionallmetal.groupby(['REGION_DE_ORIGEN']).agg({'VALOR_FOB_USD': 'sum'}).sort_values(by='VALOR_FOB_USD', ascending=False)\n",
    "exportacionallmetal=exportacionallmetal.reset_index()\n",
    "\n",
    "#otros\n",
    "exportacionallmetal['REGION_DE_ORIGEN'] = exportacionallmetal['REGION_DE_ORIGEN'].apply(lambda x: 'Otros' if x not in exportacionallmetal[exportacionallmetal['VALOR_FOB_USD'] > exportacionallmetal['VALOR_FOB_USD'].sum()*0.01]['REGION_DE_ORIGEN'].values else x)\n",
    "\n",
    "fig=px.pie(exportacionallmetal, values='VALOR_FOB_USD', names='REGION_DE_ORIGEN', title='Exportaciones Atlántico por CIIU para Fabricación de productos elaborados de metal, excepto maquinaria y equipo')\n",
    "fig.show()"
   ]
  },
  {
   "attachments": {},
   "cell_type": "markdown",
   "metadata": {},
   "source": [
    "En cuanto el mercado internacional que abarca el departamento del Atlántico, podemos observar que el principal destino de las exportaciones del departamento es Estados Unidos, seguido Brasil y Mexico. En el caso de las importaciones, el principal origen de las mismas es Estados Unidos, seguido por China y Brasil."
   ]
  },
  {
   "cell_type": "code",
   "execution_count": null,
   "metadata": {},
   "outputs": [
    {
     "data": {
      "text/html": [
       "<iframe\n",
       "    scrolling=\"no\"\n",
       "    width=\"100%\"\n",
       "    height=\"545px\"\n",
       "    src=\"iframe_figures/figure_73.html\"\n",
       "    frameborder=\"0\"\n",
       "    allowfullscreen\n",
       "></iframe>\n"
      ]
     },
     "metadata": {},
     "output_type": "display_data"
    }
   ],
   "source": [
    "## get proportions of PAIS_DESTINO_FINAL from exportaciones to atlantico\n",
    "exportacion=dd.read_csv('2022_exportacion.csv', dtype={'COD_MODALIDAD_PRECEDENTE': 'object','NIT_EXPORTADOR': 'object'}).compute()\n",
    "\n",
    "exportacion=exportacion[exportacion['REGION_DE_ORIGEN']=='ATLANTICO']\n",
    "exportacion=exportacion.groupby(['PAIS_DESTINO_FINAL']).agg({'VALOR_FOB_USD': 'sum'}).sort_values(by='VALOR_FOB_USD', ascending=False)\n",
    "exportacion=exportacion.reset_index()\n",
    "\n",
    "#otros are those that are less than the 0.0003% of the total\n",
    "exportacion['PAIS_DESTINO_FINAL'] = exportacion['PAIS_DESTINO_FINAL'].apply(lambda x: 'Otros' if x not in exportacion[exportacion['VALOR_FOB_USD'] > exportacion['VALOR_FOB_USD'].sum()*0.01]['PAIS_DESTINO_FINAL'].values else x)\n",
    "\n",
    "\n",
    "fig=px.pie(exportacion, values='VALOR_FOB_USD', names='PAIS_DESTINO_FINAL', title='Exportaciones Atlántico por País')\n",
    "fig.show()\n"
   ]
  },
  {
   "cell_type": "code",
   "execution_count": 78,
   "metadata": {},
   "outputs": [
    {
     "name": "stderr",
     "output_type": "stream",
     "text": [
      "/var/folders/pl/v8kzknmx44v8w9mzp7wds7z40000gn/T/ipykernel_10911/460022180.py:34: FutureWarning:\n",
      "\n",
      "save is not part of the public API, usage can give unexpected results and will be removed in a future version\n",
      "\n"
     ]
    }
   ],
   "source": [
    "# #recreate the graph in excel\n",
    "\n",
    "# # columns are PAIS_DESTINO_FINAL\tVALOR_FOB_USD\n",
    "\n",
    "# exportacion2=exportacion\n",
    "\n",
    "\n",
    "# # Create a Pandas Excel writer using XlsxWriter as the engine.\n",
    "# excel_file = 'pie_chartexport.xlsx'\n",
    "# sheet_name = 'Sheet1'\n",
    "\n",
    "# df=exportacion2\n",
    "\n",
    "# writer = pd.ExcelWriter(excel_file, engine='xlsxwriter')\n",
    "# df.to_excel(writer, sheet_name=sheet_name)\n",
    "\n",
    "# workbook = writer.book\n",
    "# worksheet = writer.sheets[sheet_name]\n",
    "\n",
    "# chart = workbook.add_chart({'type': 'pie'})\n",
    "\n",
    "# # Configure the series of the chart from the dataframe data.\n",
    "# for col_num, value in enumerate(df.columns.values):\n",
    "#     chart.add_series({\n",
    "#         'name':       [sheet_name, 0, col_num],\n",
    "#         'categories': [sheet_name, 1, 0, len(df), 0],\n",
    "#         'values':     [sheet_name, 1, col_num, len(df), col_num],\n",
    "#     })\n",
    "\n",
    "# # Insert the chart into the worksheet.\n",
    "# worksheet.insert_chart('D2', chart)\n",
    "\n",
    "# # Close the Pandas Excel writer and output the Excel file.\n",
    "# writer.save()\n",
    "\n"
   ]
  },
  {
   "cell_type": "code",
   "execution_count": null,
   "metadata": {},
   "outputs": [],
   "source": [
    "importacionesaa=importacion[importacion['DEPARTAMENTO_DESTINO']=='ATLANTICO']\n",
    "\n",
    "importacionesaa=importacionesaa.groupby(['PAIS_ORIGEN']).agg({'VALOR_FOB_USD': 'sum'}).sort_values(by='VALOR_FOB_USD', ascending=False)\n",
    "importacionesaa=importacionesaa.sort_values(by='VALOR_FOB_USD', ascending=False)\n",
    "#otros\n"
   ]
  },
  {
   "cell_type": "code",
   "execution_count": null,
   "metadata": {},
   "outputs": [],
   "source": [
    "importacionesaa=importacionesaa.reset_index()\n",
    "#otros\n",
    "importacionesaa['PAIS_ORIGEN'] = importacionesaa['PAIS_ORIGEN'].apply(lambda x: 'Otros' if x not in importacionesaa[importacionesaa['VALOR_FOB_USD'] > importacionesaa['VALOR_FOB_USD'].sum()*0.01]['PAIS_ORIGEN'].values else x)"
   ]
  },
  {
   "cell_type": "code",
   "execution_count": null,
   "metadata": {},
   "outputs": [
    {
     "data": {
      "text/html": [
       "<iframe\n",
       "    scrolling=\"no\"\n",
       "    width=\"100%\"\n",
       "    height=\"545px\"\n",
       "    src=\"iframe_figures/figure_59.html\"\n",
       "    frameborder=\"0\"\n",
       "    allowfullscreen\n",
       "></iframe>\n"
      ]
     },
     "metadata": {},
     "output_type": "display_data"
    }
   ],
   "source": [
    "fig=px.pie(importacionesaa, values='VALOR_FOB_USD', names='PAIS_ORIGEN', title='Importaciones Atlántico por País')\n",
    "fig.show()\n",
    "\n"
   ]
  },
  {
   "cell_type": "code",
   "execution_count": null,
   "metadata": {},
   "outputs": [],
   "source": [
    "importacionesaa.columns"
   ]
  },
  {
   "cell_type": "code",
   "execution_count": null,
   "metadata": {},
   "outputs": [
    {
     "name": "stderr",
     "output_type": "stream",
     "text": [
      "/var/folders/pl/v8kzknmx44v8w9mzp7wds7z40000gn/T/ipykernel_10911/3131368426.py:44: FutureWarning:\n",
      "\n",
      "save is not part of the public API, usage can give unexpected results and will be removed in a future version\n",
      "\n"
     ]
    }
   ],
   "source": [
    "# # #recreate the graph in excel\n",
    "\n",
    "# # # columns are PAIS_ORIGEN', 'VALOR_FOB_USD\n",
    "\n",
    "# importacionesaa2=importacionesaa\n",
    "\n",
    "\n",
    "# # # Create a Pandas Excel writer using XlsxWriter as the engine.\n",
    "# excel_file = 'pie_chartimportaciones.xlsx'\n",
    "# sheet_name = 'Sheet1'\n",
    "\n",
    "# df=importacionesaa2\n",
    "\n",
    "# writer = pd.ExcelWriter(excel_file, engine='xlsxwriter')\n",
    "\n",
    "# df.to_excel(writer, sheet_name=sheet_name)\n",
    "\n",
    "# workbook = writer.book\n",
    "\n",
    "# worksheet = writer.sheets[sheet_name]\n",
    "\n",
    "# chart = workbook.add_chart({'type': 'pie'})\n",
    "\n",
    "# # Configure the series of the chart from the dataframe data.\n",
    "\n",
    "# for col_num, value in enumerate(df.columns.values):\n",
    "    \n",
    "#         chart.add_series({\n",
    "    \n",
    "#             'name':       [sheet_name, 0, col_num],\n",
    "    \n",
    "#             'categories': [sheet_name, 1, 0, len(df), 0],\n",
    "    \n",
    "#             'values':     [sheet_name, 1, col_num, len(df), col_num],\n",
    "    \n",
    "#         })\n",
    "\n",
    "# # Insert the chart into the worksheet.\n",
    "\n",
    "# worksheet.insert_chart('D2', chart)\n",
    "\n",
    "# # Close the Pandas Excel writer and output the Excel file.\n",
    "\n",
    "# writer.save()\n",
    "\n",
    "\n",
    "\n"
   ]
  },
  {
   "attachments": {},
   "cell_type": "markdown",
   "metadata": {},
   "source": [
    "## 2. Funcionamiento de Cuentas Nacionales del Atlántico"
   ]
  },
  {
   "attachments": {},
   "cell_type": "markdown",
   "metadata": {},
   "source": [
    "Revisando el historico de PIB departamental, encontramos que el Atlatnico ha tenido un crecimiento constante en los ultimos años, siendo la 6ta economia mas grande del pais en 2022. \n"
   ]
  },
  {
   "cell_type": "code",
   "execution_count": null,
   "metadata": {},
   "outputs": [
    {
     "name": "stderr",
     "output_type": "stream",
     "text": [
      "/var/folders/pl/v8kzknmx44v8w9mzp7wds7z40000gn/T/ipykernel_9235/2795901221.py:35: FutureWarning:\n",
      "\n",
      "save is not part of the public API, usage can give unexpected results and will be removed in a future version\n",
      "\n"
     ]
    }
   ],
   "source": [
    "# #recreate the graph in excel\n",
    "\n",
    "# # columns are REGION_DE_ORIGEN\tVALOR_FOB_USD\n",
    "\n",
    "# exportacionallmetal2=exportacionallmetal\n",
    "\n",
    "\n",
    "# # Create a Pandas Excel writer using XlsxWriter as the engine.\n",
    "# excel_file = 'pie_chart2.xlsx'\n",
    "# sheet_name = 'Sheet1'\n",
    "\n",
    "# df=exportacionallmetal2\n",
    "\n",
    "# writer = pd.ExcelWriter(excel_file, engine='xlsxwriter')\n",
    "# df.to_excel(writer, sheet_name=sheet_name)\n",
    "\n",
    "# workbook = writer.book\n",
    "# worksheet = writer.sheets[sheet_name]\n",
    "\n",
    "# chart = workbook.add_chart({'type': 'pie'})\n",
    "\n",
    "# # Configure the series of the chart from the dataframe data.\n",
    "# for col_num, value in enumerate(df.columns.values):\n",
    "#     chart.add_series({\n",
    "#         'name':       [sheet_name, 0, col_num],\n",
    "#         'categories': [sheet_name, 1, 0, len(df), 0],\n",
    "#         'values':     [sheet_name, 1, col_num, len(df), col_num],\n",
    "#     })\n",
    "    \n",
    "\n",
    "# # Insert the chart into the worksheet.\n",
    "# worksheet.insert_chart('D2', chart)\n",
    "\n",
    "# # Close the Pandas Excel writer and output the Excel file.\n",
    "# writer.save()\n",
    "\n"
   ]
  },
  {
   "cell_type": "code",
   "execution_count": null,
   "metadata": {},
   "outputs": [
    {
     "data": {
      "text/html": [
       "<iframe\n",
       "    scrolling=\"no\"\n",
       "    width=\"100%\"\n",
       "    height=\"545px\"\n",
       "    src=\"iframe_figures/figure_33.html\"\n",
       "    frameborder=\"0\"\n",
       "    allowfullscreen\n",
       "></iframe>\n"
      ]
     },
     "metadata": {},
     "output_type": "display_data"
    }
   ],
   "source": [
    "pib=pd.read_csv(\"/Users/lasagna/Library/CloudStorage/OneDrive-UniversidaddelNorte/Probarranquilla Projects/PIB proyectado/chart.csv\")\n",
    "#from col 2021pr to the end, delete the cols\n",
    "colnum2021pr=pib.columns.get_loc(\"2021pr\")\n",
    "pib=pib.iloc[:, :colnum2021pr+1]\n",
    "pib.rename(columns={'2021pr': '2021'}, inplace=True)\n",
    "\n",
    "# plot all DEPARTAMENTOS \n",
    "pib=pib.melt(id_vars=['DEPARTAMENTOS'], var_name='Año', value_name='PIB')\n",
    "# change 2020p to 2020\n",
    "pib['Año']=pib['Año'].str.replace('p', '')\n",
    "pib['Año']=pib['Año'].astype(int)\n",
    "# delete , \n",
    "pib['PIB']=pib['PIB'].str.replace(',', '')\n",
    "pib['PIB']=pib['PIB'].astype(float)\n",
    "\n",
    "# get only departamentos with more than 1% of the total\n",
    "\n",
    "# delete COLOMBIA from DEPARTAMENTOS\n",
    "pib=pib[pib['DEPARTAMENTOS']!='COLOMBIA']\n",
    "# delete Bogotá D.C. from DEPARTAMENTOS\n",
    "pib=pib[pib['DEPARTAMENTOS']!='Bogotá D.C.']\n",
    "\n",
    "#others less than 20000\n",
    "pib['DEPARTAMENTOS'] = pib['DEPARTAMENTOS'].apply(lambda x: 'Otros' if x not in pib[pib['PIB'] > 20000]['DEPARTAMENTOS'].values else x)\n",
    "#delete otros\n",
    "pib=pib[pib['DEPARTAMENTOS']!='Otros']\n",
    "\n",
    "#plot\n",
    "fig=px.line(pib, x='Año', y='PIB', color='DEPARTAMENTOS', title='PIB Real por departamento en Miles de millones de pesos')\n",
    "fig.show()\n",
    "\n"
   ]
  },
  {
   "cell_type": "code",
   "execution_count": null,
   "metadata": {},
   "outputs": [
    {
     "name": "stderr",
     "output_type": "stream",
     "text": [
      "/var/folders/pl/v8kzknmx44v8w9mzp7wds7z40000gn/T/ipykernel_9235/1356142412.py:44: FutureWarning:\n",
      "\n",
      "save is not part of the public API, usage can give unexpected results and will be removed in a future version\n",
      "\n"
     ]
    }
   ],
   "source": [
    "# #recreate the graph in excel\n",
    "\n",
    "# # columns are DEPARTAMENTOS\tAño\tPIB\n",
    "\n",
    "# pib2=pib\n",
    "\n",
    "# # convert DEPARTAMENTOS TO COLUMN\n",
    "# pib2=pib2.pivot(index='Año', columns='DEPARTAMENTOS', values='PIB')\n",
    "# pib2=pib2.reset_index()\n",
    "\n",
    "\n",
    "\n",
    "# # Create a Pandas Excel writer using XlsxWriter as the engine.\n",
    "# excel_file = 'line_chartbydepartment.xlsx'\n",
    "# sheet_name = 'Sheet1'\n",
    "\n",
    "# df=pib2\n",
    "\n",
    "# writer = pd.ExcelWriter(excel_file, engine='xlsxwriter')\n",
    "\n",
    "# df.to_excel(writer, sheet_name=sheet_name)\n",
    "\n",
    "# workbook = writer.book\n",
    "\n",
    "# worksheet = writer.sheets[sheet_name]\n",
    "\n",
    "# chart = workbook.add_chart({'type': 'line'})\n",
    "\n",
    "# # Configure the series of the chart from the dataframe data.\n",
    "\n",
    "# for col_num, value in enumerate(df.columns.values):\n",
    "#     if col_num > 0:\n",
    "#         chart.add_series({\n",
    "#             'name':     [sheet_name, 0, col_num],\n",
    "#             'categories': [sheet_name, 1, 0, len(df), 0],\n",
    "#             'values':     [sheet_name, 1, col_num, len(df), col_num],\n",
    "            \n",
    "#         })\n",
    "\n",
    "# # Insert the chart into the worksheet.\n",
    "# worksheet.insert_chart('D2', chart)\n",
    "\n",
    "# # Close the Pandas Excel writer and output the Excel file.\n",
    "# writer.save()\n",
    "\n",
    "\n",
    "\n"
   ]
  },
  {
   "cell_type": "code",
   "execution_count": null,
   "metadata": {},
   "outputs": [
    {
     "name": "stderr",
     "output_type": "stream",
     "text": [
      "/var/folders/pl/v8kzknmx44v8w9mzp7wds7z40000gn/T/ipykernel_10911/702171108.py:3: SettingWithCopyWarning:\n",
      "\n",
      "\n",
      "A value is trying to be set on a copy of a slice from a DataFrame.\n",
      "Try using .loc[row_indexer,col_indexer] = value instead\n",
      "\n",
      "See the caveats in the documentation: https://pandas.pydata.org/pandas-docs/stable/user_guide/indexing.html#returning-a-view-versus-a-copy\n",
      "\n"
     ]
    },
    {
     "data": {
      "text/html": [
       "<iframe\n",
       "    scrolling=\"no\"\n",
       "    width=\"100%\"\n",
       "    height=\"545px\"\n",
       "    src=\"iframe_figures/figure_34.html\"\n",
       "    frameborder=\"0\"\n",
       "    allowfullscreen\n",
       "></iframe>\n"
      ]
     },
     "metadata": {},
     "output_type": "display_data"
    }
   ],
   "source": [
    "# JUST FOR 2021, get %\n",
    "pib2021=pib[pib['Año']==2021]\n",
    "pib2021['PIB']=pib2021['PIB']/pib2021['PIB'].sum()*100\n",
    "pib2021=pib2021.sort_values(by='PIB', ascending=False)\n",
    "pib2021\n",
    "fig=px.pie(pib2021, values='PIB', names='DEPARTAMENTOS', title='PIB Real por departamento')\n",
    "fig.show()\n"
   ]
  },
  {
   "cell_type": "code",
   "execution_count": null,
   "metadata": {},
   "outputs": [
    {
     "name": "stderr",
     "output_type": "stream",
     "text": [
      "/var/folders/pl/v8kzknmx44v8w9mzp7wds7z40000gn/T/ipykernel_9235/636664010.py:34: FutureWarning:\n",
      "\n",
      "save is not part of the public API, usage can give unexpected results and will be removed in a future version\n",
      "\n"
     ]
    }
   ],
   "source": [
    "# # Create a Pandas Excel writer using XlsxWriter as the engine.\n",
    "# excel_file = 'pie_chart2021.xlsx'\n",
    "# sheet_name = 'Sheet1'\n",
    "\n",
    "# df=pib2021\n",
    "\n",
    "# writer = pd.ExcelWriter(excel_file, engine='xlsxwriter')\n",
    "\n",
    "# df.to_excel(writer, sheet_name=sheet_name)\n",
    "\n",
    "# workbook = writer.book\n",
    "\n",
    "# worksheet = writer.sheets[sheet_name]\n",
    "\n",
    "# chart = workbook.add_chart({'type': 'pie'})\n",
    "\n",
    "# # Configure the series of the chart from the dataframe data.\n",
    "\n",
    "# for col_num, value in enumerate(df.columns.values):\n",
    "#     if col_num > 0:\n",
    "#         chart.add_series({\n",
    "#             'name':     [sheet_name, 0, col_num],\n",
    "#             'categories': [sheet_name, 1, 0, len(df), 0],\n",
    "#             'values':     [sheet_name, 1, col_num, len(df), col_num],\n",
    "            \n",
    "#         })\n",
    "\n",
    "# # Insert the chart into the worksheet.\n",
    "\n",
    "# worksheet.insert_chart('D2', chart)\n",
    "\n",
    "# # Close the Pandas Excel writer and output the Excel file.\n",
    "\n",
    "# writer.save()\n"
   ]
  },
  {
   "attachments": {},
   "cell_type": "markdown",
   "metadata": {},
   "source": [
    "Segun Proyecciones realizadas por ProBarranquilla, se espera que el PIB departamental haya alcanzado a 42.9 miles de millones de pesos en 2022, lo que representa un crecimiento de casi 5% con respecto al 2021.\n"
   ]
  },
  {
   "cell_type": "code",
   "execution_count": null,
   "metadata": {},
   "outputs": [
    {
     "data": {
      "text/html": [
       "<iframe\n",
       "    scrolling=\"no\"\n",
       "    width=\"100%\"\n",
       "    height=\"545px\"\n",
       "    src=\"iframe_figures/figure_35.html\"\n",
       "    frameborder=\"0\"\n",
       "    allowfullscreen\n",
       "></iframe>\n"
      ]
     },
     "metadata": {},
     "output_type": "display_data"
    }
   ],
   "source": [
    "## get proyectado\n",
    "pibproyectado=pd.read_csv(\"/Users/lasagna/Library/CloudStorage/OneDrive-UniversidaddelNorte/Probarranquilla Projects/PIB proyectado/Proyeccion.csv\")\n",
    "pibproyectado[[\"DEPARTAMENTOS\", \"Atlántico\"]]\n",
    "pibproyectado.rename(columns={'DEPARTAMENTOS': 'Año'}, inplace=True)\n",
    "\n",
    "# convert to change the values\n",
    "pibproyectado[\"Atlántico\"]=pibproyectado[\"Atlántico\"].str.replace(',', '')\n",
    "pibproyectado[\"Atlántico\"]=pibproyectado[\"Atlántico\"].astype(float)\n",
    "\n",
    "#plot\n",
    "fig=px.line(pibproyectado, x='Año', y='Atlántico', title='PIB Proyectado del Atlántico en Miles de millones de pesos')\n",
    "fig.show()\n",
    "\n"
   ]
  },
  {
   "cell_type": "code",
   "execution_count": null,
   "metadata": {},
   "outputs": [
    {
     "name": "stderr",
     "output_type": "stream",
     "text": [
      "/var/folders/pl/v8kzknmx44v8w9mzp7wds7z40000gn/T/ipykernel_9235/2938075198.py:32: FutureWarning:\n",
      "\n",
      "save is not part of the public API, usage can give unexpected results and will be removed in a future version\n",
      "\n"
     ]
    }
   ],
   "source": [
    "# # Create a Pandas Excel writer using XlsxWriter as the engine.\n",
    "# excel_file = 'line_chartproyectado.xlsx'\n",
    "# sheet_name = 'Sheet1'\n",
    "\n",
    "# df=pibproyectado\n",
    "\n",
    "# writer = pd.ExcelWriter(excel_file, engine='xlsxwriter')\n",
    "\n",
    "# df.to_excel(writer, sheet_name=sheet_name)\n",
    "\n",
    "# workbook = writer.book\n",
    "\n",
    "# worksheet = writer.sheets[sheet_name]\n",
    "\n",
    "# chart = workbook.add_chart({'type': 'line'})\n",
    "\n",
    "# # Configure the series of the chart from the dataframe data.\n",
    "\n",
    "# for col_num, value in enumerate(df.columns.values):\n",
    "#     if col_num > 0:\n",
    "#         chart.add_series({\n",
    "#             'name':     [sheet_name, 0, col_num],\n",
    "#             'categories': [sheet_name, 1, 0, len(df), 0],\n",
    "#             'values':     [sheet_name, 1, col_num, len(df), col_num],\n",
    "            \n",
    "#         })\n",
    "\n",
    "# # Insert the chart into the worksheet.\n",
    "# worksheet.insert_chart('D2', chart)\n",
    "\n",
    "# # Close the Pandas Excel writer and output the Excel file.\n",
    "# writer.save()\n"
   ]
  }
 ],
 "metadata": {
  "kernelspec": {
   "display_name": "Python 3",
   "language": "python",
   "name": "python3"
  },
  "language_info": {
   "codemirror_mode": {
    "name": "ipython",
    "version": 3
   },
   "file_extension": ".py",
   "mimetype": "text/x-python",
   "name": "python",
   "nbconvert_exporter": "python",
   "pygments_lexer": "ipython3",
   "version": "3.11.1"
  },
  "orig_nbformat": 4,
  "vscode": {
   "interpreter": {
    "hash": "aee8b7b246df8f9039afb4144a1f6fd8d2ca17a180786b69acc140d282b71a49"
   }
  }
 },
 "nbformat": 4,
 "nbformat_minor": 2
}
